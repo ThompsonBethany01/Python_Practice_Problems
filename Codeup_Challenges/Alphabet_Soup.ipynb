{
 "cells": [
  {
   "cell_type": "markdown",
   "metadata": {},
   "source": [
    "# Alphabet Soup\n",
    "Create a function alphabet_soup($str) that accepts a string and will return the string in alphabetical order. E.g. \"hello world\" becomes \"ehllo dlorw\". So make sure your function separates and alphabetizes each word separately.\n",
    "\n",
    "## Steps\n",
    "1. split string\n",
    "2. sort each item in split list of string\n",
    "3. concat back to one string\n",
    "4. return the string of alphabatized words\n",
    "4. put code in a function and .py file"
   ]
  },
  {
   "cell_type": "code",
   "execution_count": 20,
   "metadata": {},
   "outputs": [],
   "source": [
    "# starting test case using example given\n",
    "my_string = \"hello world\""
   ]
  },
  {
   "cell_type": "code",
   "execution_count": 21,
   "metadata": {},
   "outputs": [],
   "source": [
    "# splitting string by spaces\n",
    "my_string_list = str.split(my_string)"
   ]
  },
  {
   "cell_type": "code",
   "execution_count": 22,
   "metadata": {},
   "outputs": [
    {
     "name": "stdout",
     "output_type": "stream",
     "text": [
      "hello\n",
      "world\n"
     ]
    }
   ],
   "source": [
    "# creating loop to iterate through each word, can work on any word length string\n",
    "# loops through each index number in the list\n",
    "for x in range(0, len(my_string_list)):\n",
    "    # prints each word\n",
    "    print(my_string_list[x])"
   ]
  },
  {
   "cell_type": "code",
   "execution_count": 23,
   "metadata": {},
   "outputs": [
    {
     "name": "stdout",
     "output_type": "stream",
     "text": [
      "['e', 'h', 'l', 'l', 'o']\n",
      "['d', 'l', 'o', 'r', 'w']\n"
     ]
    }
   ],
   "source": [
    "# this time, testing loop with sorted method to check if alphabatizes correctly\n",
    "for x in range(0, len(my_string_list)):\n",
    "    \n",
    "    print(sorted(my_string_list[x]))"
   ]
  },
  {
   "cell_type": "code",
   "execution_count": 24,
   "metadata": {},
   "outputs": [
    {
     "name": "stdout",
     "output_type": "stream",
     "text": [
      "[['e', 'h', 'l', 'l', 'o'], ['d', 'l', 'o', 'r', 'w']]\n"
     ]
    }
   ],
   "source": [
    "# saving items in list as the alphabetized words\n",
    "for x in range(0, len(my_string_list)):\n",
    "    \n",
    "    my_string_list[x] = sorted(my_string_list[x])\n",
    "    \n",
    "print(my_string_list)"
   ]
  },
  {
   "cell_type": "code",
   "execution_count": 30,
   "metadata": {},
   "outputs": [
    {
     "data": {
      "text/plain": [
       "'ehllo dlorw'"
      ]
     },
     "execution_count": 30,
     "metadata": {},
     "output_type": "execute_result"
    }
   ],
   "source": [
    "# concatinating words for specific test case, need to make reproducable for any string\n",
    "''.join(my_string_list[0]) + ' ' + ''.join(my_string_list[1])"
   ]
  },
  {
   "cell_type": "code",
   "execution_count": 39,
   "metadata": {},
   "outputs": [
    {
     "name": "stdout",
     "output_type": "stream",
     "text": [
      "ehllo dlorw \n"
     ]
    }
   ],
   "source": [
    "# full code to alphabetize the individual words in 'hello world'\n",
    "my_string = 'hello world'\n",
    "\n",
    "# splitting string by spaces\n",
    "my_string_list = str.split(my_string)\n",
    "\n",
    "# initialzing variable as empty string to add the sorted words to\n",
    "my_string_sorted = ''\n",
    "\n",
    "# looping through each word in the string\n",
    "for x in range(0, len(my_string_list)):\n",
    "    \n",
    "    # resetting word to sorted word\n",
    "    my_string_list[x] = sorted(my_string_list[x])\n",
    "    \n",
    "    # adding sorted word to new string\n",
    "    if x != len(my_string_list):\n",
    "        \n",
    "        # only adding trailing space if not the last word in the string\n",
    "        my_string_sorted += (''.join(my_string_list[x]) + ' ')\n",
    "    \n",
    "    else:\n",
    "        \n",
    "        # does not add trailing space because last word in the string\n",
    "        my_string_sorted += (''.join(my_string_list[x]))\n",
    "    \n",
    "print(my_string_sorted)"
   ]
  },
  {
   "cell_type": "code",
   "execution_count": 41,
   "metadata": {},
   "outputs": [],
   "source": [
    "# last step, putting it together in a function to save in a .py file\n",
    "\n",
    "def alphabetize_words(my_string):\n",
    "    \n",
    "    # splitting string by spaces\n",
    "    my_string_list = str.split(my_string)\n",
    "\n",
    "    # initialzing variable as empty string to add the sorted words to\n",
    "    my_string_sorted = ''\n",
    "\n",
    "    # looping through each word in the string\n",
    "    for x in range(0, len(my_string_list)):\n",
    "    \n",
    "        # resetting word to sorted word\n",
    "        my_string_list[x] = sorted(my_string_list[x])\n",
    "    \n",
    "        # adding sorted word to new string\n",
    "        if x != len(my_string_list):\n",
    "        \n",
    "            # only adding trailing space if not the last word in the string\n",
    "            my_string_sorted += (''.join(my_string_list[x]) + ' ')\n",
    "    \n",
    "        else:\n",
    "        \n",
    "            # does not add trailing space because last word in the string\n",
    "            my_string_sorted += (''.join(my_string_list[x]))\n",
    "            \n",
    "    return my_string_sorted"
   ]
  },
  {
   "cell_type": "code",
   "execution_count": 44,
   "metadata": {},
   "outputs": [
    {
     "data": {
      "text/plain": [
       "'...eginstt ...eginstt ,,123 '"
      ]
     },
     "execution_count": 44,
     "metadata": {},
     "output_type": "execute_result"
    }
   ],
   "source": [
    "alphabetize_words('testing... testing... 1,2,3')"
   ]
  },
  {
   "cell_type": "code",
   "execution_count": 46,
   "metadata": {},
   "outputs": [
    {
     "data": {
      "text/plain": [
       "'I hiknt eefhorrt I am '"
      ]
     },
     "execution_count": 46,
     "metadata": {},
     "output_type": "execute_result"
    }
   ],
   "source": [
    "alphabetize_words('I think therefor I am')"
   ]
  }
 ],
 "metadata": {
  "kernelspec": {
   "display_name": "Python 3",
   "language": "python",
   "name": "python3"
  },
  "language_info": {
   "codemirror_mode": {
    "name": "ipython",
    "version": 3
   },
   "file_extension": ".py",
   "mimetype": "text/x-python",
   "name": "python",
   "nbconvert_exporter": "python",
   "pygments_lexer": "ipython3",
   "version": "3.7.6"
  }
 },
 "nbformat": 4,
 "nbformat_minor": 4
}
